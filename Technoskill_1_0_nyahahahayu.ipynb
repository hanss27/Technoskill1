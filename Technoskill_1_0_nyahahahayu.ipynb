{
  "nbformat": 4,
  "nbformat_minor": 0,
  "metadata": {
    "colab": {
      "name": "Technoskill  1.0 nyahahahayu",
      "provenance": [],
      "collapsed_sections": []
    },
    "kernelspec": {
      "name": "python3",
      "display_name": "Python 3"
    },
    "language_info": {
      "name": "python"
    }
  },
  "cells": [
    {
      "cell_type": "code",
      "metadata": {
        "id": "D91E_CCw919d"
      },
      "source": [
        "#Import Library pandas numpy\n",
        "import pandas as pd\n",
        "import numpy as np"
      ],
      "execution_count": null,
      "outputs": []
    },
    {
      "cell_type": "code",
      "metadata": {
        "id": "L0g3al02Qw9p"
      },
      "source": [
        ""
      ],
      "execution_count": null,
      "outputs": []
    },
    {
      "cell_type": "code",
      "metadata": {
        "colab": {
          "base_uri": "https://localhost:8080/"
        },
        "id": "PpgI6j2V-bnr",
        "outputId": "01e76753-5045-461c-b106-6f61181f9fee"
      },
      "source": [
        "#Import data dari GDrive\n",
        "from google.colab import drive\n",
        "drive.mount('/content/gdrive')"
      ],
      "execution_count": null,
      "outputs": [
        {
          "output_type": "stream",
          "text": [
            "Mounted at /content/gdrive\n"
          ],
          "name": "stdout"
        }
      ]
    },
    {
      "cell_type": "code",
      "metadata": {
        "id": "l2-JRh31_nZY"
      },
      "source": [
        "from google.colab import drive\n",
        "drive.mount('/content/drive')"
      ],
      "execution_count": null,
      "outputs": []
    },
    {
      "cell_type": "code",
      "metadata": {
        "colab": {
          "base_uri": "https://localhost:8080/",
          "height": 217
        },
        "id": "HOvS6wS-Akbb",
        "outputId": "9f5d74f0-bf3b-44b4-c88d-27a1a74a764d"
      },
      "source": [
        "#Ambil data tes_techno.csv dari gdrive\n",
        "test_techno = pd.read_csv('/content/gdrive/MyDrive/Techno/TechnoLomba/test_techno.csv')\n",
        "test_techno.head()"
      ],
      "execution_count": null,
      "outputs": [
        {
          "output_type": "execute_result",
          "data": {
            "text/html": [
              "<div>\n",
              "<style scoped>\n",
              "    .dataframe tbody tr th:only-of-type {\n",
              "        vertical-align: middle;\n",
              "    }\n",
              "\n",
              "    .dataframe tbody tr th {\n",
              "        vertical-align: top;\n",
              "    }\n",
              "\n",
              "    .dataframe thead th {\n",
              "        text-align: right;\n",
              "    }\n",
              "</style>\n",
              "<table border=\"1\" class=\"dataframe\">\n",
              "  <thead>\n",
              "    <tr style=\"text-align: right;\">\n",
              "      <th></th>\n",
              "      <th>battery_power</th>\n",
              "      <th>blue</th>\n",
              "      <th>clock_speed</th>\n",
              "      <th>dual_sim</th>\n",
              "      <th>fc</th>\n",
              "      <th>four_g</th>\n",
              "      <th>int_memory</th>\n",
              "      <th>m_dep</th>\n",
              "      <th>mobile_wt</th>\n",
              "      <th>n_cores</th>\n",
              "      <th>pc</th>\n",
              "      <th>px_height</th>\n",
              "      <th>px_width</th>\n",
              "      <th>ram</th>\n",
              "      <th>sc_h</th>\n",
              "      <th>sc_w</th>\n",
              "      <th>talk_time</th>\n",
              "      <th>three_g</th>\n",
              "      <th>touch_screen</th>\n",
              "      <th>wifi</th>\n",
              "      <th>id</th>\n",
              "    </tr>\n",
              "  </thead>\n",
              "  <tbody>\n",
              "    <tr>\n",
              "      <th>0</th>\n",
              "      <td>709</td>\n",
              "      <td>0</td>\n",
              "      <td>1.9</td>\n",
              "      <td>0</td>\n",
              "      <td>11</td>\n",
              "      <td>1</td>\n",
              "      <td>13</td>\n",
              "      <td>0.1</td>\n",
              "      <td>81</td>\n",
              "      <td>8</td>\n",
              "      <td>15</td>\n",
              "      <td>570</td>\n",
              "      <td>1422</td>\n",
              "      <td>467</td>\n",
              "      <td>17</td>\n",
              "      <td>11</td>\n",
              "      <td>5</td>\n",
              "      <td>1</td>\n",
              "      <td>1</td>\n",
              "      <td>1</td>\n",
              "      <td>1</td>\n",
              "    </tr>\n",
              "    <tr>\n",
              "      <th>1</th>\n",
              "      <td>1744</td>\n",
              "      <td>0</td>\n",
              "      <td>2.8</td>\n",
              "      <td>0</td>\n",
              "      <td>0</td>\n",
              "      <td>1</td>\n",
              "      <td>62</td>\n",
              "      <td>0.7</td>\n",
              "      <td>158</td>\n",
              "      <td>1</td>\n",
              "      <td>0</td>\n",
              "      <td>621</td>\n",
              "      <td>1558</td>\n",
              "      <td>345</td>\n",
              "      <td>10</td>\n",
              "      <td>6</td>\n",
              "      <td>14</td>\n",
              "      <td>1</td>\n",
              "      <td>0</td>\n",
              "      <td>0</td>\n",
              "      <td>2</td>\n",
              "    </tr>\n",
              "    <tr>\n",
              "      <th>2</th>\n",
              "      <td>1314</td>\n",
              "      <td>1</td>\n",
              "      <td>2.2</td>\n",
              "      <td>0</td>\n",
              "      <td>0</td>\n",
              "      <td>1</td>\n",
              "      <td>40</td>\n",
              "      <td>0.8</td>\n",
              "      <td>116</td>\n",
              "      <td>7</td>\n",
              "      <td>1</td>\n",
              "      <td>328</td>\n",
              "      <td>1858</td>\n",
              "      <td>3033</td>\n",
              "      <td>9</td>\n",
              "      <td>8</td>\n",
              "      <td>17</td>\n",
              "      <td>1</td>\n",
              "      <td>1</td>\n",
              "      <td>1</td>\n",
              "      <td>3</td>\n",
              "    </tr>\n",
              "    <tr>\n",
              "      <th>3</th>\n",
              "      <td>1136</td>\n",
              "      <td>0</td>\n",
              "      <td>0.5</td>\n",
              "      <td>0</td>\n",
              "      <td>0</td>\n",
              "      <td>1</td>\n",
              "      <td>9</td>\n",
              "      <td>0.9</td>\n",
              "      <td>150</td>\n",
              "      <td>6</td>\n",
              "      <td>2</td>\n",
              "      <td>1307</td>\n",
              "      <td>1767</td>\n",
              "      <td>2110</td>\n",
              "      <td>9</td>\n",
              "      <td>5</td>\n",
              "      <td>16</td>\n",
              "      <td>1</td>\n",
              "      <td>0</td>\n",
              "      <td>1</td>\n",
              "      <td>4</td>\n",
              "    </tr>\n",
              "    <tr>\n",
              "      <th>4</th>\n",
              "      <td>1039</td>\n",
              "      <td>1</td>\n",
              "      <td>2.7</td>\n",
              "      <td>0</td>\n",
              "      <td>11</td>\n",
              "      <td>0</td>\n",
              "      <td>56</td>\n",
              "      <td>0.3</td>\n",
              "      <td>125</td>\n",
              "      <td>8</td>\n",
              "      <td>13</td>\n",
              "      <td>497</td>\n",
              "      <td>618</td>\n",
              "      <td>3105</td>\n",
              "      <td>14</td>\n",
              "      <td>8</td>\n",
              "      <td>5</td>\n",
              "      <td>0</td>\n",
              "      <td>1</td>\n",
              "      <td>1</td>\n",
              "      <td>5</td>\n",
              "    </tr>\n",
              "  </tbody>\n",
              "</table>\n",
              "</div>"
            ],
            "text/plain": [
              "   battery_power  blue  clock_speed  dual_sim  ...  three_g  touch_screen  wifi  id\n",
              "0            709     0          1.9         0  ...        1             1     1   1\n",
              "1           1744     0          2.8         0  ...        1             0     0   2\n",
              "2           1314     1          2.2         0  ...        1             1     1   3\n",
              "3           1136     0          0.5         0  ...        1             0     1   4\n",
              "4           1039     1          2.7         0  ...        0             1     1   5\n",
              "\n",
              "[5 rows x 21 columns]"
            ]
          },
          "metadata": {
            "tags": []
          },
          "execution_count": 495
        }
      ]
    },
    {
      "cell_type": "code",
      "metadata": {
        "colab": {
          "base_uri": "https://localhost:8080/"
        },
        "id": "uk9e6J1HW-_i",
        "outputId": "c287bf44-326f-4801-f5e1-6bf0339c1f20"
      },
      "source": [
        "data = [1,3,5,7]\n",
        "data.append([2,4,6,8])\n",
        "print(len(data))"
      ],
      "execution_count": null,
      "outputs": [
        {
          "output_type": "stream",
          "name": "stdout",
          "text": [
            "5\n"
          ]
        }
      ]
    },
    {
      "cell_type": "code",
      "metadata": {
        "colab": {
          "base_uri": "https://localhost:8080/"
        },
        "id": "KkJxwP5DXVqL",
        "outputId": "adff71af-509b-46c8-da2b-4ad97347b3c1"
      },
      "source": [
        "for i in range(1,3):\n",
        "  print(i)\n",
        "for j in range(2):\n",
        "  print(j)"
      ],
      "execution_count": null,
      "outputs": [
        {
          "output_type": "stream",
          "name": "stdout",
          "text": [
            "1\n",
            "2\n",
            "0\n",
            "1\n"
          ]
        }
      ]
    },
    {
      "cell_type": "code",
      "metadata": {
        "colab": {
          "base_uri": "https://localhost:8080/",
          "height": 217
        },
        "id": "bB3YSH7fBbMI",
        "outputId": "aacae06f-982d-4baf-a9bc-75fd377644b0"
      },
      "source": [
        "#Ambil data train_techno.csv dari gdrive\n",
        "train_techno = pd.read_csv('/content/gdrive/MyDrive/Techno/TechnoLomba/train_techno.csv')\n",
        "train_techno.head()"
      ],
      "execution_count": null,
      "outputs": [
        {
          "output_type": "execute_result",
          "data": {
            "text/html": [
              "<div>\n",
              "<style scoped>\n",
              "    .dataframe tbody tr th:only-of-type {\n",
              "        vertical-align: middle;\n",
              "    }\n",
              "\n",
              "    .dataframe tbody tr th {\n",
              "        vertical-align: top;\n",
              "    }\n",
              "\n",
              "    .dataframe thead th {\n",
              "        text-align: right;\n",
              "    }\n",
              "</style>\n",
              "<table border=\"1\" class=\"dataframe\">\n",
              "  <thead>\n",
              "    <tr style=\"text-align: right;\">\n",
              "      <th></th>\n",
              "      <th>battery_power</th>\n",
              "      <th>blue</th>\n",
              "      <th>clock_speed</th>\n",
              "      <th>dual_sim</th>\n",
              "      <th>fc</th>\n",
              "      <th>four_g</th>\n",
              "      <th>int_memory</th>\n",
              "      <th>m_dep</th>\n",
              "      <th>mobile_wt</th>\n",
              "      <th>n_cores</th>\n",
              "      <th>pc</th>\n",
              "      <th>px_height</th>\n",
              "      <th>px_width</th>\n",
              "      <th>ram</th>\n",
              "      <th>sc_h</th>\n",
              "      <th>sc_w</th>\n",
              "      <th>talk_time</th>\n",
              "      <th>three_g</th>\n",
              "      <th>touch_screen</th>\n",
              "      <th>wifi</th>\n",
              "      <th>price_range</th>\n",
              "    </tr>\n",
              "  </thead>\n",
              "  <tbody>\n",
              "    <tr>\n",
              "      <th>0</th>\n",
              "      <td>842</td>\n",
              "      <td>0</td>\n",
              "      <td>2.2</td>\n",
              "      <td>0</td>\n",
              "      <td>1</td>\n",
              "      <td>0</td>\n",
              "      <td>7</td>\n",
              "      <td>0.6</td>\n",
              "      <td>188</td>\n",
              "      <td>2</td>\n",
              "      <td>2</td>\n",
              "      <td>20</td>\n",
              "      <td>756</td>\n",
              "      <td>2549</td>\n",
              "      <td>9</td>\n",
              "      <td>7</td>\n",
              "      <td>19</td>\n",
              "      <td>0</td>\n",
              "      <td>0</td>\n",
              "      <td>1</td>\n",
              "      <td>1</td>\n",
              "    </tr>\n",
              "    <tr>\n",
              "      <th>1</th>\n",
              "      <td>1021</td>\n",
              "      <td>1</td>\n",
              "      <td>0.5</td>\n",
              "      <td>1</td>\n",
              "      <td>0</td>\n",
              "      <td>1</td>\n",
              "      <td>53</td>\n",
              "      <td>0.7</td>\n",
              "      <td>136</td>\n",
              "      <td>3</td>\n",
              "      <td>6</td>\n",
              "      <td>905</td>\n",
              "      <td>1988</td>\n",
              "      <td>2631</td>\n",
              "      <td>17</td>\n",
              "      <td>3</td>\n",
              "      <td>7</td>\n",
              "      <td>1</td>\n",
              "      <td>1</td>\n",
              "      <td>0</td>\n",
              "      <td>2</td>\n",
              "    </tr>\n",
              "    <tr>\n",
              "      <th>2</th>\n",
              "      <td>563</td>\n",
              "      <td>1</td>\n",
              "      <td>0.5</td>\n",
              "      <td>1</td>\n",
              "      <td>2</td>\n",
              "      <td>1</td>\n",
              "      <td>41</td>\n",
              "      <td>0.9</td>\n",
              "      <td>145</td>\n",
              "      <td>5</td>\n",
              "      <td>6</td>\n",
              "      <td>1263</td>\n",
              "      <td>1716</td>\n",
              "      <td>2603</td>\n",
              "      <td>11</td>\n",
              "      <td>2</td>\n",
              "      <td>9</td>\n",
              "      <td>1</td>\n",
              "      <td>1</td>\n",
              "      <td>0</td>\n",
              "      <td>2</td>\n",
              "    </tr>\n",
              "    <tr>\n",
              "      <th>3</th>\n",
              "      <td>615</td>\n",
              "      <td>1</td>\n",
              "      <td>2.5</td>\n",
              "      <td>0</td>\n",
              "      <td>0</td>\n",
              "      <td>0</td>\n",
              "      <td>10</td>\n",
              "      <td>0.8</td>\n",
              "      <td>131</td>\n",
              "      <td>6</td>\n",
              "      <td>9</td>\n",
              "      <td>1216</td>\n",
              "      <td>1786</td>\n",
              "      <td>2769</td>\n",
              "      <td>16</td>\n",
              "      <td>8</td>\n",
              "      <td>11</td>\n",
              "      <td>1</td>\n",
              "      <td>0</td>\n",
              "      <td>0</td>\n",
              "      <td>2</td>\n",
              "    </tr>\n",
              "    <tr>\n",
              "      <th>4</th>\n",
              "      <td>1821</td>\n",
              "      <td>1</td>\n",
              "      <td>1.2</td>\n",
              "      <td>0</td>\n",
              "      <td>13</td>\n",
              "      <td>1</td>\n",
              "      <td>44</td>\n",
              "      <td>0.6</td>\n",
              "      <td>141</td>\n",
              "      <td>2</td>\n",
              "      <td>14</td>\n",
              "      <td>1208</td>\n",
              "      <td>1212</td>\n",
              "      <td>1411</td>\n",
              "      <td>8</td>\n",
              "      <td>2</td>\n",
              "      <td>15</td>\n",
              "      <td>1</td>\n",
              "      <td>1</td>\n",
              "      <td>0</td>\n",
              "      <td>1</td>\n",
              "    </tr>\n",
              "  </tbody>\n",
              "</table>\n",
              "</div>"
            ],
            "text/plain": [
              "   battery_power  blue  clock_speed  ...  touch_screen  wifi  price_range\n",
              "0            842     0          2.2  ...             0     1            1\n",
              "1           1021     1          0.5  ...             1     0            2\n",
              "2            563     1          0.5  ...             1     0            2\n",
              "3            615     1          2.5  ...             0     0            2\n",
              "4           1821     1          1.2  ...             1     0            1\n",
              "\n",
              "[5 rows x 21 columns]"
            ]
          },
          "metadata": {
            "tags": []
          },
          "execution_count": 496
        }
      ]
    },
    {
      "cell_type": "code",
      "metadata": {
        "colab": {
          "base_uri": "https://localhost:8080/"
        },
        "id": "b9izWLQNAFze",
        "outputId": "8a31125f-980a-4dda-b41a-cee44cd30456"
      },
      "source": [
        " test_techno.info()"
      ],
      "execution_count": null,
      "outputs": [
        {
          "output_type": "stream",
          "text": [
            "<class 'pandas.core.frame.DataFrame'>\n",
            "RangeIndex: 818 entries, 0 to 817\n",
            "Data columns (total 21 columns):\n",
            " #   Column         Non-Null Count  Dtype  \n",
            "---  ------         --------------  -----  \n",
            " 0   battery_power  818 non-null    int64  \n",
            " 1   blue           818 non-null    int64  \n",
            " 2   clock_speed    818 non-null    float64\n",
            " 3   dual_sim       818 non-null    int64  \n",
            " 4   fc             818 non-null    int64  \n",
            " 5   four_g         818 non-null    int64  \n",
            " 6   int_memory     818 non-null    int64  \n",
            " 7   m_dep          818 non-null    float64\n",
            " 8   mobile_wt      818 non-null    int64  \n",
            " 9   n_cores        818 non-null    int64  \n",
            " 10  pc             818 non-null    int64  \n",
            " 11  px_height      818 non-null    int64  \n",
            " 12  px_width       818 non-null    int64  \n",
            " 13  ram            818 non-null    int64  \n",
            " 14  sc_h           818 non-null    int64  \n",
            " 15  sc_w           818 non-null    int64  \n",
            " 16  talk_time      818 non-null    int64  \n",
            " 17  three_g        818 non-null    int64  \n",
            " 18  touch_screen   818 non-null    int64  \n",
            " 19  wifi           818 non-null    int64  \n",
            " 20  id             818 non-null    int64  \n",
            "dtypes: float64(2), int64(19)\n",
            "memory usage: 134.3 KB\n"
          ],
          "name": "stdout"
        }
      ]
    },
    {
      "cell_type": "code",
      "metadata": {
        "colab": {
          "base_uri": "https://localhost:8080/",
          "height": 307
        },
        "id": "9jgptsFXvP-R",
        "outputId": "6704bcd7-ecc0-453c-ed79-9c9699c98941"
      },
      "source": [
        "train_techno.describe()"
      ],
      "execution_count": null,
      "outputs": [
        {
          "output_type": "execute_result",
          "data": {
            "text/html": [
              "<div>\n",
              "<style scoped>\n",
              "    .dataframe tbody tr th:only-of-type {\n",
              "        vertical-align: middle;\n",
              "    }\n",
              "\n",
              "    .dataframe tbody tr th {\n",
              "        vertical-align: top;\n",
              "    }\n",
              "\n",
              "    .dataframe thead th {\n",
              "        text-align: right;\n",
              "    }\n",
              "</style>\n",
              "<table border=\"1\" class=\"dataframe\">\n",
              "  <thead>\n",
              "    <tr style=\"text-align: right;\">\n",
              "      <th></th>\n",
              "      <th>battery_power</th>\n",
              "      <th>blue</th>\n",
              "      <th>clock_speed</th>\n",
              "      <th>dual_sim</th>\n",
              "      <th>fc</th>\n",
              "      <th>four_g</th>\n",
              "      <th>int_memory</th>\n",
              "      <th>m_dep</th>\n",
              "      <th>mobile_wt</th>\n",
              "      <th>n_cores</th>\n",
              "      <th>pc</th>\n",
              "      <th>px_height</th>\n",
              "      <th>px_width</th>\n",
              "      <th>ram</th>\n",
              "      <th>sc_h</th>\n",
              "      <th>sc_w</th>\n",
              "      <th>talk_time</th>\n",
              "      <th>three_g</th>\n",
              "      <th>touch_screen</th>\n",
              "      <th>wifi</th>\n",
              "      <th>price_range</th>\n",
              "    </tr>\n",
              "  </thead>\n",
              "  <tbody>\n",
              "    <tr>\n",
              "      <th>count</th>\n",
              "      <td>1182.000000</td>\n",
              "      <td>1182.000000</td>\n",
              "      <td>1182.000000</td>\n",
              "      <td>1182.000000</td>\n",
              "      <td>1182.000000</td>\n",
              "      <td>1182.000000</td>\n",
              "      <td>1182.000000</td>\n",
              "      <td>1182.000000</td>\n",
              "      <td>1182.000000</td>\n",
              "      <td>1182.000000</td>\n",
              "      <td>1182.000000</td>\n",
              "      <td>1182.000000</td>\n",
              "      <td>1182.000000</td>\n",
              "      <td>1182.000000</td>\n",
              "      <td>1182.000000</td>\n",
              "      <td>1182.000000</td>\n",
              "      <td>1182.000000</td>\n",
              "      <td>1182.000000</td>\n",
              "      <td>1182.000000</td>\n",
              "      <td>1182.000000</td>\n",
              "      <td>1182.000000</td>\n",
              "    </tr>\n",
              "    <tr>\n",
              "      <th>mean</th>\n",
              "      <td>1248.247885</td>\n",
              "      <td>0.483080</td>\n",
              "      <td>1.525212</td>\n",
              "      <td>0.512690</td>\n",
              "      <td>4.363790</td>\n",
              "      <td>0.501692</td>\n",
              "      <td>33.044839</td>\n",
              "      <td>0.501692</td>\n",
              "      <td>141.590525</td>\n",
              "      <td>4.487310</td>\n",
              "      <td>9.917090</td>\n",
              "      <td>647.015228</td>\n",
              "      <td>1249.471235</td>\n",
              "      <td>2162.908629</td>\n",
              "      <td>12.317259</td>\n",
              "      <td>5.748731</td>\n",
              "      <td>11.038917</td>\n",
              "      <td>0.749577</td>\n",
              "      <td>0.507614</td>\n",
              "      <td>0.519459</td>\n",
              "      <td>1.537225</td>\n",
              "    </tr>\n",
              "    <tr>\n",
              "      <th>std</th>\n",
              "      <td>440.202286</td>\n",
              "      <td>0.499925</td>\n",
              "      <td>0.814781</td>\n",
              "      <td>0.500051</td>\n",
              "      <td>4.411859</td>\n",
              "      <td>0.500209</td>\n",
              "      <td>18.166523</td>\n",
              "      <td>0.287911</td>\n",
              "      <td>35.375999</td>\n",
              "      <td>2.285193</td>\n",
              "      <td>6.074605</td>\n",
              "      <td>441.411624</td>\n",
              "      <td>428.669203</td>\n",
              "      <td>1096.283957</td>\n",
              "      <td>4.217823</td>\n",
              "      <td>4.360780</td>\n",
              "      <td>5.361307</td>\n",
              "      <td>0.433440</td>\n",
              "      <td>0.500154</td>\n",
              "      <td>0.499833</td>\n",
              "      <td>1.125436</td>\n",
              "    </tr>\n",
              "    <tr>\n",
              "      <th>min</th>\n",
              "      <td>501.000000</td>\n",
              "      <td>0.000000</td>\n",
              "      <td>0.500000</td>\n",
              "      <td>0.000000</td>\n",
              "      <td>0.000000</td>\n",
              "      <td>0.000000</td>\n",
              "      <td>2.000000</td>\n",
              "      <td>0.100000</td>\n",
              "      <td>80.000000</td>\n",
              "      <td>1.000000</td>\n",
              "      <td>0.000000</td>\n",
              "      <td>1.000000</td>\n",
              "      <td>500.000000</td>\n",
              "      <td>258.000000</td>\n",
              "      <td>5.000000</td>\n",
              "      <td>0.000000</td>\n",
              "      <td>2.000000</td>\n",
              "      <td>0.000000</td>\n",
              "      <td>0.000000</td>\n",
              "      <td>0.000000</td>\n",
              "      <td>0.000000</td>\n",
              "    </tr>\n",
              "    <tr>\n",
              "      <th>25%</th>\n",
              "      <td>853.250000</td>\n",
              "      <td>0.000000</td>\n",
              "      <td>0.700000</td>\n",
              "      <td>0.000000</td>\n",
              "      <td>1.000000</td>\n",
              "      <td>0.000000</td>\n",
              "      <td>17.000000</td>\n",
              "      <td>0.200000</td>\n",
              "      <td>110.000000</td>\n",
              "      <td>3.000000</td>\n",
              "      <td>4.000000</td>\n",
              "      <td>287.000000</td>\n",
              "      <td>875.500000</td>\n",
              "      <td>1211.500000</td>\n",
              "      <td>9.000000</td>\n",
              "      <td>2.000000</td>\n",
              "      <td>7.000000</td>\n",
              "      <td>0.250000</td>\n",
              "      <td>0.000000</td>\n",
              "      <td>0.000000</td>\n",
              "      <td>1.000000</td>\n",
              "    </tr>\n",
              "    <tr>\n",
              "      <th>50%</th>\n",
              "      <td>1260.000000</td>\n",
              "      <td>0.000000</td>\n",
              "      <td>1.500000</td>\n",
              "      <td>1.000000</td>\n",
              "      <td>3.000000</td>\n",
              "      <td>1.000000</td>\n",
              "      <td>33.000000</td>\n",
              "      <td>0.500000</td>\n",
              "      <td>142.000000</td>\n",
              "      <td>4.000000</td>\n",
              "      <td>10.000000</td>\n",
              "      <td>561.000000</td>\n",
              "      <td>1247.000000</td>\n",
              "      <td>2227.000000</td>\n",
              "      <td>12.000000</td>\n",
              "      <td>5.000000</td>\n",
              "      <td>11.000000</td>\n",
              "      <td>1.000000</td>\n",
              "      <td>1.000000</td>\n",
              "      <td>1.000000</td>\n",
              "      <td>2.000000</td>\n",
              "    </tr>\n",
              "    <tr>\n",
              "      <th>75%</th>\n",
              "      <td>1631.000000</td>\n",
              "      <td>1.000000</td>\n",
              "      <td>2.200000</td>\n",
              "      <td>1.000000</td>\n",
              "      <td>7.000000</td>\n",
              "      <td>1.000000</td>\n",
              "      <td>49.000000</td>\n",
              "      <td>0.800000</td>\n",
              "      <td>172.000000</td>\n",
              "      <td>7.000000</td>\n",
              "      <td>15.000000</td>\n",
              "      <td>952.750000</td>\n",
              "      <td>1613.000000</td>\n",
              "      <td>3109.500000</td>\n",
              "      <td>16.000000</td>\n",
              "      <td>9.000000</td>\n",
              "      <td>16.000000</td>\n",
              "      <td>1.000000</td>\n",
              "      <td>1.000000</td>\n",
              "      <td>1.000000</td>\n",
              "      <td>3.000000</td>\n",
              "    </tr>\n",
              "    <tr>\n",
              "      <th>max</th>\n",
              "      <td>1997.000000</td>\n",
              "      <td>1.000000</td>\n",
              "      <td>3.000000</td>\n",
              "      <td>1.000000</td>\n",
              "      <td>18.000000</td>\n",
              "      <td>1.000000</td>\n",
              "      <td>64.000000</td>\n",
              "      <td>1.000000</td>\n",
              "      <td>200.000000</td>\n",
              "      <td>8.000000</td>\n",
              "      <td>20.000000</td>\n",
              "      <td>1949.000000</td>\n",
              "      <td>1998.000000</td>\n",
              "      <td>3998.000000</td>\n",
              "      <td>19.000000</td>\n",
              "      <td>18.000000</td>\n",
              "      <td>20.000000</td>\n",
              "      <td>1.000000</td>\n",
              "      <td>1.000000</td>\n",
              "      <td>1.000000</td>\n",
              "      <td>3.000000</td>\n",
              "    </tr>\n",
              "  </tbody>\n",
              "</table>\n",
              "</div>"
            ],
            "text/plain": [
              "       battery_power         blue  ...         wifi  price_range\n",
              "count    1182.000000  1182.000000  ...  1182.000000  1182.000000\n",
              "mean     1248.247885     0.483080  ...     0.519459     1.537225\n",
              "std       440.202286     0.499925  ...     0.499833     1.125436\n",
              "min       501.000000     0.000000  ...     0.000000     0.000000\n",
              "25%       853.250000     0.000000  ...     0.000000     1.000000\n",
              "50%      1260.000000     0.000000  ...     1.000000     2.000000\n",
              "75%      1631.000000     1.000000  ...     1.000000     3.000000\n",
              "max      1997.000000     1.000000  ...     1.000000     3.000000\n",
              "\n",
              "[8 rows x 21 columns]"
            ]
          },
          "metadata": {
            "tags": []
          },
          "execution_count": 562
        }
      ]
    },
    {
      "cell_type": "code",
      "metadata": {
        "id": "izSLAGnIChZr",
        "colab": {
          "base_uri": "https://localhost:8080/"
        },
        "outputId": "39ff01c0-3a2d-4103-eb8c-e600bcaab5d2"
      },
      "source": [
        "#Ambil data X dan y\n",
        "X = train_techno.iloc[:,0:20].values\n",
        "y = train_techno.loc[:, ['price_range']].values"
      ],
      "execution_count": null,
      "outputs": [
        {
          "output_type": "stream",
          "text": [
            "[[8.420e+02 0.000e+00 2.200e+00 ... 0.000e+00 0.000e+00 1.000e+00]\n",
            " [1.021e+03 1.000e+00 5.000e-01 ... 1.000e+00 1.000e+00 0.000e+00]\n",
            " [5.630e+02 1.000e+00 5.000e-01 ... 1.000e+00 1.000e+00 0.000e+00]\n",
            " ...\n",
            " [1.880e+03 0.000e+00 5.000e-01 ... 1.000e+00 1.000e+00 0.000e+00]\n",
            " [1.479e+03 1.000e+00 1.800e+00 ... 1.000e+00 0.000e+00 0.000e+00]\n",
            " [1.271e+03 0.000e+00 1.500e+00 ... 0.000e+00 1.000e+00 0.000e+00]]\n"
          ],
          "name": "stdout"
        }
      ]
    },
    {
      "cell_type": "code",
      "metadata": {
        "colab": {
          "base_uri": "https://localhost:8080/"
        },
        "id": "l2z8i9YpD9dp",
        "outputId": "da5438e3-882f-4efa-adcf-df4548477945"
      },
      "source": [
        "print(X.shape)\n",
        "print(y.shape)"
      ],
      "execution_count": null,
      "outputs": [
        {
          "output_type": "stream",
          "text": [
            "(1182, 20)\n",
            "(1182, 1)\n"
          ],
          "name": "stdout"
        }
      ]
    },
    {
      "cell_type": "code",
      "metadata": {
        "id": "JnRCsv-kEpoE"
      },
      "source": [
        "#Import KNeighborsClassifier,DecisionTreeClassifier,RandomForestClassifier, dan SVC\n",
        "from sklearn.neighbors import KNeighborsClassifier\n",
        "from sklearn.tree import DecisionTreeClassifier\n",
        "from sklearn.ensemble import RandomForestClassifier\n",
        "from sklearn.svm import SVC"
      ],
      "execution_count": null,
      "outputs": []
    },
    {
      "cell_type": "code",
      "metadata": {
        "id": "OhGfXT1gEyQ_"
      },
      "source": [
        "#Import KFold dan cross_val_score\n",
        "from sklearn.model_selection import KFold\n",
        "from sklearn.model_selection import cross_val_score\n",
        "k_fold = KFold(n_splits=10, shuffle=True, random_state=0)"
      ],
      "execution_count": null,
      "outputs": []
    },
    {
      "cell_type": "code",
      "metadata": {
        "colab": {
          "base_uri": "https://localhost:8080/"
        },
        "id": "WKVRXViGFUMj",
        "outputId": "0750c3da-f26d-49c8-e983-3f643ddd646e"
      },
      "source": [
        "#KNeighborsClassifier\n",
        "clf = KNeighborsClassifier(n_neighbors = 3)\n",
        "scoring = 'accuracy'\n",
        "score = cross_val_score(clf, X, y.ravel(), cv=k_fold, n_jobs=1, scoring=scoring)\n",
        "print(score)"
      ],
      "execution_count": null,
      "outputs": [
        {
          "output_type": "stream",
          "text": [
            "[0.86554622 0.88235294 0.90677966 0.87288136 0.93220339 0.91525424\n",
            " 0.91525424 0.96610169 0.94067797 0.88135593]\n"
          ],
          "name": "stdout"
        }
      ]
    },
    {
      "cell_type": "code",
      "metadata": {
        "colab": {
          "base_uri": "https://localhost:8080/"
        },
        "id": "YbmjWlShFWjw",
        "outputId": "0b8f8d2e-86af-406c-852e-f98a532836e3"
      },
      "source": [
        "#Random KNeighbors Score\n",
        "round(np.mean(score)*100, 2)"
      ],
      "execution_count": null,
      "outputs": [
        {
          "output_type": "execute_result",
          "data": {
            "text/plain": [
              "90.78"
            ]
          },
          "metadata": {
            "tags": []
          },
          "execution_count": 571
        }
      ]
    },
    {
      "cell_type": "code",
      "metadata": {
        "colab": {
          "base_uri": "https://localhost:8080/"
        },
        "id": "ER7EVor1Fbh1",
        "outputId": "b289aae3-d7e6-4e86-f546-3cadf214113e"
      },
      "source": [
        "#DecisionTreeClassifier\n",
        "clf = DecisionTreeClassifier()\n",
        "scoring = 'accuracy'\n",
        "score = cross_val_score(clf, X, y.ravel(), cv=k_fold, n_jobs=1, scoring=scoring)\n",
        "print(score)"
      ],
      "execution_count": null,
      "outputs": [
        {
          "output_type": "stream",
          "text": [
            "[0.78151261 0.81512605 0.8220339  0.81355932 0.78813559 0.77118644\n",
            " 0.81355932 0.80508475 0.86440678 0.78813559]\n"
          ],
          "name": "stdout"
        }
      ]
    },
    {
      "cell_type": "code",
      "metadata": {
        "colab": {
          "base_uri": "https://localhost:8080/"
        },
        "id": "hRbZeA5YFdXc",
        "outputId": "0b99af3b-9b9f-482c-972f-efb5902a961f"
      },
      "source": [
        "#Random DecisionTree Score\n",
        "round(np.mean(score)*100, 2)"
      ],
      "execution_count": null,
      "outputs": [
        {
          "output_type": "execute_result",
          "data": {
            "text/plain": [
              "80.63"
            ]
          },
          "metadata": {
            "tags": []
          },
          "execution_count": 573
        }
      ]
    },
    {
      "cell_type": "code",
      "metadata": {
        "colab": {
          "base_uri": "https://localhost:8080/"
        },
        "id": "peX4TDGxFmqx",
        "outputId": "49f5c4af-bbf7-4404-d3d5-e6110eed43e4"
      },
      "source": [
        "#RandomForestClassifier\n",
        "clf = RandomForestClassifier(n_estimators=13)\n",
        "scoring = 'accuracy'\n",
        "score = cross_val_score(clf, X, y.ravel(), cv=k_fold, n_jobs=1, scoring=scoring)\n",
        "print(score)"
      ],
      "execution_count": null,
      "outputs": [
        {
          "output_type": "stream",
          "text": [
            "[0.73109244 0.81512605 0.80508475 0.77118644 0.77118644 0.80508475\n",
            " 0.83050847 0.8220339  0.80508475 0.8220339 ]\n"
          ],
          "name": "stdout"
        }
      ]
    },
    {
      "cell_type": "code",
      "metadata": {
        "colab": {
          "base_uri": "https://localhost:8080/"
        },
        "id": "VD3ZWajiE-i9",
        "outputId": "74400d7f-fc5b-4a59-805a-3a952875b2ba"
      },
      "source": [
        "#Random Forest Score\n",
        "round(np.mean(score)*100, 2)"
      ],
      "execution_count": null,
      "outputs": [
        {
          "output_type": "execute_result",
          "data": {
            "text/plain": [
              "79.78"
            ]
          },
          "metadata": {
            "tags": []
          },
          "execution_count": 575
        }
      ]
    },
    {
      "cell_type": "code",
      "metadata": {
        "colab": {
          "base_uri": "https://localhost:8080/"
        },
        "id": "IJ0htRc2Frxx",
        "outputId": "2a6c5b16-296a-420c-f12d-3462de9b2c5b"
      },
      "source": [
        "#SVMClassifier\n",
        "clf = SVC()\n",
        "scoring = 'accuracy'\n",
        "score = cross_val_score(clf, X, y.ravel(), cv=k_fold,n_jobs= 1,  scoring=scoring)\n",
        "print(score)"
      ],
      "execution_count": null,
      "outputs": [
        {
          "output_type": "stream",
          "text": [
            "[0.90756303 0.94117647 0.97457627 0.91525424 0.93220339 0.97457627\n",
            " 0.93220339 0.96610169 0.97457627 0.94915254]\n"
          ],
          "name": "stdout"
        }
      ]
    },
    {
      "cell_type": "code",
      "metadata": {
        "colab": {
          "base_uri": "https://localhost:8080/"
        },
        "id": "M1ddSJNxEyZa",
        "outputId": "b8e0ac8e-6cbb-4656-b23d-f646752c5221"
      },
      "source": [
        "#Random SVM Score\n",
        "round(np.mean(score)*100, 2)"
      ],
      "execution_count": null,
      "outputs": [
        {
          "output_type": "execute_result",
          "data": {
            "text/plain": [
              "94.67"
            ]
          },
          "metadata": {
            "tags": []
          },
          "execution_count": 577
        }
      ]
    },
    {
      "cell_type": "code",
      "metadata": {
        "id": "pFi2-gW_EyeC",
        "colab": {
          "base_uri": "https://localhost:8080/"
        },
        "outputId": "3331b779-2971-492b-90e1-ca1cffc2ff21"
      },
      "source": [
        "#Ubah variabel X menjadi X_train dan y menjadi y_train\n",
        "X_train = X\n",
        "y_train = y\n"
      ],
      "execution_count": null,
      "outputs": [
        {
          "output_type": "stream",
          "text": [
            "(1182, 20)\n",
            "(818, 20)\n"
          ],
          "name": "stdout"
        }
      ]
    },
    {
      "cell_type": "code",
      "metadata": {
        "colab": {
          "base_uri": "https://localhost:8080/"
        },
        "id": "eYk1TsdKWb1J",
        "outputId": "ffd0b9a0-796b-4c4b-c19a-7767e538e9ba"
      },
      "source": [
        "#Karena SVM yang paling besar\n",
        "from sklearn.svm import SVC      \n",
        "classifier = SVC()\n",
        "classifier.fit(X_train, y_train.ravel()) "
      ],
      "execution_count": null,
      "outputs": [
        {
          "output_type": "execute_result",
          "data": {
            "text/plain": [
              "SVC(C=1.0, break_ties=False, cache_size=200, class_weight=None, coef0=0.0,\n",
              "    decision_function_shape='ovr', degree=3, gamma='scale', kernel='rbf',\n",
              "    max_iter=-1, probability=False, random_state=None, shrinking=True,\n",
              "    tol=0.001, verbose=False)"
            ]
          },
          "metadata": {
            "tags": []
          },
          "execution_count": 644
        }
      ]
    },
    {
      "cell_type": "code",
      "metadata": {
        "id": "yGvPdYs4WeUQ"
      },
      "source": [
        "#nilai y untuk test_techno\n",
        "X_valid =  test_techno.iloc[:,0:20].values\n",
        "y_pred = classifier.predict(X_valid)"
      ],
      "execution_count": null,
      "outputs": []
    },
    {
      "cell_type": "code",
      "metadata": {
        "id": "R_XaTtIYPeQB"
      },
      "source": [
        "#Import test_sol dari gdrive\n",
        "test_sol = pd.read_csv('/content/gdrive/MyDrive/Techno/TechnoLomba/test_sol.csv')"
      ],
      "execution_count": null,
      "outputs": []
    },
    {
      "cell_type": "code",
      "metadata": {
        "colab": {
          "base_uri": "https://localhost:8080/"
        },
        "id": "ntNZUVADVe5h",
        "outputId": "44f21782-6648-4c69-9527-098125f89eb0"
      },
      "source": [
        "#Masukkan value y_pred ke price_range\n",
        "test_sol['price_range'] = y_pred\n",
        "test_sol.to_csv(r'/content/gdrive/MyDrive/Techno/TechnoLomba/test_sol.csv',index = False)\n",
        "\n",
        "#Test file yang sudah dimasukkan\n",
        "print(test_sol[:10])"
      ],
      "execution_count": null,
      "outputs": [
        {
          "output_type": "stream",
          "text": [
            "   Id  price_range\n",
            "0   1            0\n",
            "1   2            0\n",
            "2   3            3\n",
            "3   4            2\n",
            "4   5            2\n",
            "5   6            0\n",
            "6   7            3\n",
            "7   8            2\n",
            "8   9            0\n",
            "9  10            3\n"
          ],
          "name": "stdout"
        }
      ]
    }
  ]
}